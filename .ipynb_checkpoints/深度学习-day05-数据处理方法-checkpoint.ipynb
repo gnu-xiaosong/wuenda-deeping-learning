{
 "cells": [
  {
   "cell_type": "markdown",
   "id": "1c40fb54",
   "metadata": {},
   "source": [
    "# 数据处理方法"
   ]
  },
  {
   "cell_type": "markdown",
   "id": "bd4effa5",
   "metadata": {},
   "source": [
    "> 数据处理目的： 去量纲的影响，即是去除指标的单位的影响，使他们都在无量纲上进行讨论，但他们之间的相互关系还在，便于数据处理计算，其他干扰因素就少了。以及防止数据爆炸的影响。"
   ]
  },
  {
   "cell_type": "markdown",
   "id": "cc7edb75",
   "metadata": {},
   "source": [
    "###  归一化的方法"
   ]
  },
  {
   "cell_type": "markdown",
   "id": "efe686d4",
   "metadata": {},
   "source": [
    "#### 方法一：线性函数归一化"
   ]
  },
  {
   "cell_type": "markdown",
   "id": "daa07f97",
   "metadata": {},
   "source": [
    "> 将数据归一化到[0,1]之间"
   ]
  },
  {
   "cell_type": "markdown",
   "id": "fdba927d",
   "metadata": {},
   "source": [
    "* 适应： 在不涉及距离，协方差计算，数据不符合正太分布的时候，用该技术或其他归一化方法。比如图像处理中，将灰度图像界定在0-255的范围内时"
   ]
  },
  {
   "cell_type": "markdown",
   "id": "a83ea293",
   "metadata": {},
   "source": [
    "* 公式"
   ]
  },
  {
   "cell_type": "markdown",
   "id": "7a10b556",
   "metadata": {},
   "source": [
    "$ X_{norm} = \\frac{X - X_{min}}{ X_{max} - X_{min}}$"
   ]
  },
  {
   "cell_type": "markdown",
   "id": "bde3edad",
   "metadata": {},
   "source": [
    "该公式对数据等比例进行缩放"
   ]
  },
  {
   "cell_type": "markdown",
   "id": "066031a0",
   "metadata": {},
   "source": [
    "* python实现"
   ]
  },
  {
   "cell_type": "code",
   "execution_count": 1,
   "id": "13c51f31",
   "metadata": {},
   "outputs": [
    {
     "name": "stdout",
     "output_type": "stream",
     "text": [
      "result： [[0.  0.  0. ]\n",
      " [0.5 0.5 0.5]\n",
      " [1.  1.  1. ]]\n"
     ]
    }
   ],
   "source": [
    "import numpy as np\n",
    "\n",
    "\n",
    "# min-max-scaling归一化方法函数\n",
    "def Min_Max_scaling(X):\n",
    "    '''\n",
    "      Min-Max-scaling 归一化处理数据\n",
    "    '''\n",
    "    for k in range(X.shape[1]):\n",
    "        max = np.max(X[:,k])\n",
    "        min = np.min(X[:,k])\n",
    "        X[:,k] = (X[:,k] - min) / (max - min)\n",
    "    return X\n",
    "\n",
    "#测试\n",
    "\n",
    "X = np.array([\n",
    "    [1,2,3],\n",
    "    [3,4,5],\n",
    "    [5,6,7]\n",
    "], dtype=float)\n",
    "\n",
    "scaling_x = Min_Max_scaling(X)\n",
    "\n",
    "print('result：',scaling_x)"
   ]
  },
  {
   "cell_type": "markdown",
   "id": "95124dd8",
   "metadata": {},
   "source": [
    "### 方法二：0均值标准化（Z-score standardization）"
   ]
  },
  {
   "cell_type": "markdown",
   "id": "5d09f62f",
   "metadata": {},
   "source": [
    "> 将数据归一化均值为0，方差为1的数据集"
   ]
  },
  {
   "cell_type": "markdown",
   "id": "a1062fd8",
   "metadata": {},
   "source": [
    "* 公式"
   ]
  },
  {
   "cell_type": "markdown",
   "id": "61ec751c",
   "metadata": {},
   "source": [
    "$z = \\frac{x - \\mu}{\\sigma}$"
   ]
  },
  {
   "cell_type": "markdown",
   "id": "789ec29f",
   "metadata": {},
   "source": [
    "$\\mu为原数据的均值，\\sigma为原数据的标准差$ 要求原数据近似正态分布"
   ]
  },
  {
   "cell_type": "markdown",
   "id": "d3d6482e",
   "metadata": {},
   "source": [
    "* 适用：在分类，聚类算法中，需要用距离来度量相似性的时候，或使用PCA技术进行降维时"
   ]
  },
  {
   "cell_type": "markdown",
   "id": "cb6b1bd8",
   "metadata": {},
   "source": [
    "* python实现"
   ]
  },
  {
   "cell_type": "code",
   "execution_count": 3,
   "id": "61f540a6",
   "metadata": {},
   "outputs": [],
   "source": [
    "def Z_score(X):\n",
    "    '''\n",
    "    0均值标准化\n",
    "    '''\n",
    "    for k in range(X.shape[1]):\n",
    "        mu = np.mean(X[:,k])\n",
    "        sigma = np.var(X[:,k])\n",
    "        X[:,k] = (X[:,k] - mu) / sigma\n",
    "    return X\n",
    "    "
   ]
  },
  {
   "cell_type": "code",
   "execution_count": 4,
   "id": "858b22ef",
   "metadata": {},
   "outputs": [
    {
     "data": {
      "text/plain": [
       "array([[-2.        , -2.        , -0.66666667],\n",
       "       [ 2.        ,  2.        ,  0.66666667]])"
      ]
     },
     "execution_count": 4,
     "metadata": {},
     "output_type": "execute_result"
    }
   ],
   "source": [
    "#测试\n",
    "X = np.array([\n",
    "    [1,2,1],\n",
    "    [2,3,4]\n",
    "],dtype=float)\n",
    "\n",
    "Z_score(X)"
   ]
  },
  {
   "cell_type": "code",
   "execution_count": null,
   "id": "d351a2c2",
   "metadata": {},
   "outputs": [],
   "source": []
  }
 ],
 "metadata": {
  "kernelspec": {
   "display_name": "Python 3",
   "language": "python",
   "name": "python3"
  },
  "language_info": {
   "codemirror_mode": {
    "name": "ipython",
    "version": 3
   },
   "file_extension": ".py",
   "mimetype": "text/x-python",
   "name": "python",
   "nbconvert_exporter": "python",
   "pygments_lexer": "ipython3",
   "version": "3.8.8"
  }
 },
 "nbformat": 4,
 "nbformat_minor": 5
}
