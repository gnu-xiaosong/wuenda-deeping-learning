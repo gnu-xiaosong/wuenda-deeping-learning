{
 "cells": [
  {
   "cell_type": "markdown",
   "id": "207a971d",
   "metadata": {},
   "source": [
    "# Back Propation-反向传播"
   ]
  },
  {
   "cell_type": "markdown",
   "id": "496bc2ad",
   "metadata": {},
   "source": [
    "> 明确：back propation 就是用来快速计算出所有参数的**偏导数**,便于后面求Gradient descent然后更新训练参数的。"
   ]
  },
  {
   "cell_type": "markdown",
   "id": "74ea2748",
   "metadata": {},
   "source": [
    "> 产生背景：由于求解导数有两种方法：直接求导，间接求导（链式法则）。对于神经网络这种成千上万的数据及其更新参数。直接求导明显不显示，故用链式法则的间接求导（神经网络应用链式法则叫Back Pro0pation反向传播）"
   ]
  },
  {
   "cell_type": "markdown",
   "id": "f8ef97d4",
   "metadata": {},
   "source": []
  }
 ],
 "metadata": {
  "kernelspec": {
   "display_name": "Python 3",
   "language": "python",
   "name": "python3"
  },
  "language_info": {
   "codemirror_mode": {
    "name": "ipython",
    "version": 3
   },
   "file_extension": ".py",
   "mimetype": "text/x-python",
   "name": "python",
   "nbconvert_exporter": "python",
   "pygments_lexer": "ipython3",
   "version": "3.8.8"
  }
 },
 "nbformat": 4,
 "nbformat_minor": 5
}
