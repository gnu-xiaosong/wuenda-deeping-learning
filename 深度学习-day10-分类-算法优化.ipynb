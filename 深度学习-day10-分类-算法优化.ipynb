{
 "cells": [
  {
   "cell_type": "markdown",
   "id": "2c354989",
   "metadata": {},
   "source": [
    "# Gradient Descent  optima  梯度下降算法优化"
   ]
  },
  {
   "cell_type": "markdown",
   "id": "91942bb8",
   "metadata": {},
   "source": [
    "> 这些优化算法是gradient descent的复杂版本，内循环自动选取learning rate。然后获取最优点的算法。"
   ]
  },
  {
   "cell_type": "markdown",
   "id": "d4da874a",
   "metadata": {},
   "source": [
    "Optimization algorithms:"
   ]
  },
  {
   "cell_type": "markdown",
   "id": "3356704d",
   "metadata": {},
   "source": [
    "* Graddient Descent\n",
    "* Conjugate gradient\n",
    "* BFGS\n",
    "* L-BFGS"
   ]
  },
  {
   "cell_type": "markdown",
   "id": "54c0008c",
   "metadata": {},
   "source": [
    "这些optimaization algorithms 都有相关的函数库的调用，只需要会使用即可。"
   ]
  },
  {
   "cell_type": "code",
   "execution_count": null,
   "id": "6e10d354",
   "metadata": {},
   "outputs": [],
   "source": []
  }
 ],
 "metadata": {
  "kernelspec": {
   "display_name": "Python 3",
   "language": "python",
   "name": "python3"
  },
  "language_info": {
   "codemirror_mode": {
    "name": "ipython",
    "version": 3
   },
   "file_extension": ".py",
   "mimetype": "text/x-python",
   "name": "python",
   "nbconvert_exporter": "python",
   "pygments_lexer": "ipython3",
   "version": "3.8.8"
  }
 },
 "nbformat": 4,
 "nbformat_minor": 5
}
